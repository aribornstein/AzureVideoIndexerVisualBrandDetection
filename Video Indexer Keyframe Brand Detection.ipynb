{
 "cells": [
  {
   "cell_type": "markdown",
   "metadata": {},
   "source": [
    "# Custom Video Key Frame Image Classification and Brand Detection for Azure Video Indexer\n",
    "\n",
    "Often, we wish to extract useful tags from videos content. On social media services such as instagram, facebook, and youtube such tags are often the difference between having a successful engagment. This tutorial will show how to use the Azure Video Indexer, Computer Vision API and Custom Vision Services to extract key frames and extract custom tags. We will use the Azure APIs to detect custom brand logos in indexed videos. This code can be extended to support almost any image classification or object detection task.\n",
    "\n"
   ]
  },
  {
   "cell_type": "markdown",
   "metadata": {},
   "source": [
    "## Step 1 Download A Sample Video with the pyTube API"
   ]
  },
  {
   "cell_type": "code",
   "execution_count": null,
   "metadata": {},
   "outputs": [],
   "source": [
    "## Install pyTube3 https://github.com/nficano/pytube\n",
    "!pip install pytube3 --upgrade"
   ]
  },
  {
   "cell_type": "code",
   "execution_count": 4,
   "metadata": {},
   "outputs": [],
   "source": [
    "#importing the module \n",
    "from pathlib import Path\n",
    "from pytube import YouTube\n",
    "video2Index = YouTube('https://www.youtube.com/watch?v=ijtKxXiS4hE').streams[0].download()\n",
    "video_name = Path(video2Index).stem"
   ]
  },
  {
   "cell_type": "code",
   "execution_count": 5,
   "metadata": {},
   "outputs": [
    {
     "output_type": "execute_result",
     "data": {
      "text/plain": "'c:\\\\Users\\\\abornst\\\\Documents\\\\video_indexer_python\\\\The Whos Who of the Azure AI Platform (Azure Mythbusters).mp4'"
     },
     "metadata": {},
     "execution_count": 5
    }
   ],
   "source": [
    "video2Index"
   ]
  },
  {
   "cell_type": "code",
   "execution_count": 7,
   "metadata": {},
   "outputs": [
    {
     "output_type": "execute_result",
     "data": {
      "text/plain": "'The Whos Who of the Azure AI Platform (Azure Mythbusters)'"
     },
     "metadata": {},
     "execution_count": 7
    }
   ],
   "source": [
    "video_name"
   ]
  },
  {
   "cell_type": "markdown",
   "metadata": {},
   "source": [
    "## Step 2 Use the UnOffical Video Indexer Python API to process video"
   ]
  },
  {
   "cell_type": "code",
   "execution_count": null,
   "metadata": {},
   "outputs": [],
   "source": [
    "# Install unoffical video-indexer client https://github.com/bklim5/python_video_indexer_lib\n",
    "!pip install video-indexer"
   ]
  },
  {
   "cell_type": "code",
   "execution_count": 28,
   "metadata": {},
   "outputs": [],
   "source": [
    "from video_indexer import VideoIndexer\n",
    "#These Id's can be found in the screenshot here https://docs.microsoft.com/en-us/azure/media-services/video-indexer/video-indexer-use-apis?WT.mc_id=vikeyframedetection-notebook-abornst\n",
    "\n",
    "vi = VideoIndexer(\n",
    "    vi_subscription_key='SUBSCRIPTION_KEY',\n",
    "    vi_location='LOCATION',\n",
    "    vi_account_id='ACCOUNT_ID'\n",
    ")"
   ]
  },
  {
   "cell_type": "code",
   "execution_count": 10,
   "metadata": {},
   "outputs": [
    {
     "output_type": "stream",
     "name": "stdout",
     "text": "Uploading video to video indexer...\n"
    }
   ],
   "source": [
    "video_id = vi.upload_to_video_indexer(\n",
    "   input_filename = video2Index,\n",
    "   video_name=video_name,  # identifier for video in Video Indexer platform, must be unique during indexing time\n",
    "   video_language='English'\n",
    ")\n"
   ]
  },
  {
   "cell_type": "code",
   "execution_count": null,
   "metadata": {},
   "outputs": [],
   "source": [
    "# Get Video Info\n",
    "info = vi.get_video_info(\n",
    "    video_id,\n",
    "    video_language='English'\n",
    ")"
   ]
  },
  {
   "cell_type": "code",
   "execution_count": null,
   "metadata": {},
   "outputs": [],
   "source": [
    "# Extract keyframes\n",
    "keyframes = []\n",
    "for shot in info[\"videos\"][0][\"insights\"][\"shots\"]:\n",
    "    for keyframe in shot[\"keyFrames\"]:\n",
    "        keyframes.append(keyframe[\"instances\"][0]['thumbnailId'])\n",
    "print(\"Found #{} keyframes in video\".format(len(keyframes)))"
   ]
  },
  {
   "cell_type": "code",
   "execution_count": null,
   "metadata": {},
   "outputs": [],
   "source": [
    "# Visualize Key Frames\n",
    "from IPython.display import display\n",
    "from PIL import Image\n",
    "import io\n",
    "\n",
    "for keyframe in keyframes:\n",
    "    img_str = vi.get_thumbnail_from_video_indexer(\n",
    "             video_id,\n",
    "             keyframe)\n",
    "    img = Image.open(io.BytesIO(img_str))\n",
    "    display(img)"
   ]
  },
  {
   "cell_type": "markdown",
   "metadata": {},
   "source": [
    "## Step 3 Key Frames to Azure Computer Vision API to Detect Brands\n",
    "\n",
    "https://docs.microsoft.com/en-us/azure/cognitive-services/computer-vision/concept-brand-detection?WT.mc_id=videoindexer-github-abornst\n"
   ]
  },
  {
   "cell_type": "code",
   "execution_count": 105,
   "metadata": {},
   "outputs": [],
   "source": [
    "# Set up brand detection with computer vision api https://docs.microsoft.com/en-us/azure/cognitive-services/computer-vision/concept-brand-detection?WT.mc_id=videoindexer-github-abornst"
   ]
  },
  {
   "cell_type": "code",
   "execution_count": null,
   "metadata": {},
   "outputs": [],
   "source": [
    "# Install Azure Computer Vision Client API \n",
    "!pip install --upgrade azure-cognitiveservices-vision-computervision"
   ]
  },
  {
   "cell_type": "code",
   "execution_count": 20,
   "metadata": {},
   "outputs": [],
   "source": [
    "from azure.cognitiveservices.vision.computervision import ComputerVisionClient\n",
    "from msrest.authentication import CognitiveServicesCredentials\n",
    "endpoint = \"Azure Computer Vision Endpoint\"\n",
    "subscription_key = \"Azure Computer Vision Key\"\n",
    "computervision_client = ComputerVisionClient(endpoint, CognitiveServicesCredentials(subscription_key))"
   ]
  },
  {
   "cell_type": "code",
   "execution_count": null,
   "metadata": {},
   "outputs": [],
   "source": [
    "import time\n",
    "timeout_interval, timeout_time = 5, 10.0\n",
    "image_features = [\"brands\"]\n",
    "\n",
    "for index, keyframe in enumerate(keyframes):\n",
    "    if index % timeout_interval == 0:\n",
    "        print(\"Trying to prevent exceeding request limit waiting {} seconds\".format(timeout_time))\n",
    "        time.sleep(timeout_time)\n",
    "    # Get KeyFrame Image Byte String From Video Indexer\n",
    "    img_str = vi.get_thumbnail_from_video_indexer(video_id, keyframe)\n",
    "    # Convert Byte Stream to Image Stream\n",
    "    img_stream = io.BytesIO(img_str)  \n",
    "    # Analyze with Azure Computer Vision\n",
    "    cv_results = computervision_client.analyze_image_in_stream(img_stream, image_features) \n",
    "    print(\"Detecting brands in keyframe {}: \".format(keyframe))\n",
    "    if len(cv_results.brands) == 0:\n",
    "        print(\"No brands detected.\")\n",
    "    else:\n",
    "        for brand in cv_results.brands:\n",
    "            print(\"'{}' brand detected with confidence {:.1f}% at location {}, {}, {}, {}\".format( \\\n",
    "            brand.name, brand.confidence * 100, brand.rectangle.x, brand.rectangle.x + brand.rectangle.w, \\\n",
    "            brand.rectangle.y, brand.rectangle.y + brand.rectangle.h))"
   ]
  },
  {
   "cell_type": "markdown",
   "metadata": {},
   "source": [
    "## Step 4 Key Frames to Azure Custom Vision API to Custom Detect Brands\n",
    "\n"
   ]
  },
  {
   "cell_type": "code",
   "execution_count": null,
   "metadata": {},
   "outputs": [],
   "source": [
    "!pip install azure-cognitiveservices-vision-customvision"
   ]
  },
  {
   "cell_type": "code",
   "execution_count": null,
   "metadata": {},
   "outputs": [],
   "source": [
    "from azure.cognitiveservices.vision.customvision.prediction import CustomVisionPredictionClient\n",
    "prediction_threshold = .8\n",
    "prediction_key =  \"Custom Vision Service Key\" \n",
    "custom_endpoint = \"Custom Vision Service Endpoint\"\n",
    "project_id = \"Custom Vision Service Model ProjectId\"\n",
    "published_name = \"Custom Vision Service Model Iteration Name\"\n",
    "\n",
    "# Now there is a trained endpoint that can be used to make a prediction\n",
    "predictor = CustomVisionPredictionClient(prediction_key, endpoint=published_name)"
   ]
  },
  {
   "cell_type": "code",
   "execution_count": null,
   "metadata": {},
   "outputs": [],
   "source": [
    "import time\n",
    "timeout_interval, timeout_time = 5, 10.0\n",
    "image_features = [\"brands\"]\n",
    "\n",
    "for index, keyframe in enumerate(keyframes):\n",
    "    if index % timeout_interval == 0:\n",
    "        print(\"Trying to prevent exceeding request limit waiting {} seconds\".format(timeout_time))\n",
    "        time.sleep(timeout_time)\n",
    "    # Get KeyFrame Image Byte String From Video Indexer\n",
    "    img_str = vi.get_thumbnail_from_video_indexer(video_id, keyframe)\n",
    "    # Convert Byte Stream to Image Stream\n",
    "    img_stream = io.BytesIO(img_str)  \n",
    "    # Analyze with Azure Computer Vision\n",
    "    cv_results = predictor.detect_image(project_id, published_name, img_stream)\n",
    "    predictions = [pred for pred in cv_results.predictions if pred.probability > prediction_threshold]\n",
    "    print(\"Detecting brands in keyframe {}: \".format(keyframe))\n",
    "    if len(predictions) == 0:\n",
    "        print(\"No custom brands detected.\")\n",
    "    else:\n",
    "        for brand in predictions:\n",
    "            print(\"'{}' brand detected with confidence {:.1f}% at location {}, {}, {}, {}\".format( \\\n",
    "                brand.tag_name, brand.probability * 100, brand.bounding_box.left, brand.bounding_box.top, \\\n",
    "                brand.bounding_box.width, brand.bounding_box.height))"
   ]
  },
  {
   "cell_type": "markdown",
   "metadata": {},
   "source": [
    "## About the Author\n",
    "Aaron (Ari) Bornstein is an AI researcher with a passion for history, engaging with new technologies and computational medicine. As an Open Source Engineer at Microsoft’s Cloud Developer Advocacy team, he collaborates with Israeli Hi-Tech Community, to solve real world problems with game changing technologies that are then documented, open sourced, and shared with the rest of the world."
   ]
  }
 ],
 "metadata": {
  "language_info": {
   "codemirror_mode": {
    "name": "ipython",
    "version": 3
   },
   "file_extension": ".py",
   "mimetype": "text/x-python",
   "name": "python",
   "nbconvert_exporter": "python",
   "pygments_lexer": "ipython3",
   "version": "3.6.5-final"
  },
  "orig_nbformat": 2,
  "kernelspec": {
   "name": "python36564bitpy36conda0a391e29fe6b4e83b196db589623f48f",
   "display_name": "Python 3.6.5 64-bit ('py36': conda)"
  }
 },
 "nbformat": 4,
 "nbformat_minor": 2
}